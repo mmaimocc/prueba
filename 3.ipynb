{
  "nbformat": 4,
  "nbformat_minor": 0,
  "metadata": {
    "colab": {
      "provenance": [],
      "authorship_tag": "ABX9TyPPcVF/jlUniHMA0FQsk342",
      "include_colab_link": true
    },
    "kernelspec": {
      "name": "python3",
      "display_name": "Python 3"
    },
    "language_info": {
      "name": "python"
    }
  },
  "cells": [
    {
      "cell_type": "markdown",
      "metadata": {
        "id": "view-in-github",
        "colab_type": "text"
      },
      "source": [
        "<a href=\"https://colab.research.google.com/github/mmaimocc/prueba/blob/main/3.ipynb\" target=\"_parent\"><img src=\"https://colab.research.google.com/assets/colab-badge.svg\" alt=\"Open In Colab\"/></a>"
      ]
    },
    {
      "cell_type": "code",
      "execution_count": null,
      "metadata": {
        "colab": {
          "base_uri": "https://localhost:8080/"
        },
        "id": "wW1wEECwjeOy",
        "outputId": "2020b5b2-5798-43cc-9588-12b10d336a96"
      },
      "outputs": [
        {
          "output_type": "stream",
          "name": "stdout",
          "text": [
            "[1, 13, 17, 22, 22, 24, 26, 30, 32, 38, 42, 55, 62, 64, 74, 81, 84, 88, 93, 97, 17, 76, 97, 75, 32, 59, 61, 17, 22, 98, 100, 27, 82, 35, 36, 15, 36, 43, 18, 8]\n",
            "[1, 8, 13, 15, 17, 17, 17, 18, 22, 22, 22, 24, 26, 27, 30, 32, 32, 35, 36, 36, 38, 42, 43, 55, 59, 61, 62, 64, 74, 75, 76, 81, 82, 84, 88, 93, 97, 97, 98, 100]\n"
          ]
        }
      ],
      "source": [
        "from random import randint\n",
        "\n",
        "lista=[]\n",
        "cont=0\n",
        "\n",
        "while cont<20:\n",
        "  lista.append(randint(0,100))\n",
        "  cont+=1\n",
        "\n",
        "print(lista)\n",
        "lista.sort()\n",
        "print(lista)"
      ]
    }
  ]
}